{
 "cells": [
  {
   "cell_type": "markdown",
   "metadata": {
    "papermill": {
     "duration": 0.020263,
     "end_time": "2020-10-10T18:07:01.754590",
     "exception": false,
     "start_time": "2020-10-10T18:07:01.734327",
     "status": "completed"
    },
    "tags": []
   },
   "source": [
    "# MLP for MNIST\n",
    "\n",
    "*Note*: This notebook is **heavily** based on a [Deep Learning Udacity Notebook](https://github.com/udacity/deep-learning-v2-pytorch/blob/master/convolutional-neural-networks/mnist-mlp/mnist_mlp_solution.ipynb). As a result many of the notes, comments, and code originate from there.\n",
    "\n",
    "In this notebook, we will train an MLP to classify images from the [MNIST database](http://yann.lecun.com/exdb/mnist/) hand-written digit database.\n",
    "\n",
    "---\n",
    "\n",
    "**Table of Contents:**\n",
    "\n",
    "1. [Data](#data)\n",
    "    1. [Prepare the data](#preparing-data)\n",
    "    2. [Load the data and visualize the data](#vizualize-data)\n",
    "2. [Architecture](#architecture)\n",
    "    1. [Define a neural network architecture](#network-architecture)\n",
    "    2. [Define a Loss function and optimizer](#loss-optimizer)\n",
    "3. [Train the model + use validation](#train)\n",
    "    * [Save the model](#save-load)\n",
    "4. [Test the performance of the trained model](#test)\n",
    "    - [See which things the model gets wrong](#visualize-test)\n",
    "5. [Other Notes](#other-notes)\n",
    "    1. [Transformers](#transformers)\n",
    "    2. [DataLoader](#dataloader)\n",
    "    3. [Autograd](#autograd)\n",
    "    4. [CUDA](#cuda)"
   ]
  },
  {
   "cell_type": "code",
   "execution_count": 1,
   "metadata": {
    "execution": {
     "iopub.execute_input": "2020-10-10T18:07:01.805508Z",
     "iopub.status.busy": "2020-10-10T18:07:01.804735Z",
     "iopub.status.idle": "2020-10-10T18:07:04.526380Z",
     "shell.execute_reply": "2020-10-10T18:07:04.526924Z"
    },
    "papermill": {
     "duration": 2.752759,
     "end_time": "2020-10-10T18:07:04.527087",
     "exception": false,
     "start_time": "2020-10-10T18:07:01.774328",
     "status": "completed"
    },
    "tags": []
   },
   "outputs": [
    {
     "name": "stdout",
     "output_type": "stream",
     "text": [
      "Using matplotlib backend: agg\n"
     ]
    }
   ],
   "source": [
    "# import libraries\n",
    "import torch\n",
    "import numpy as np\n",
    "import seaborn as sns\n",
    "import matplotlib.pyplot as plt\n",
    "import seaborn as sns\n",
    "import torchvision\n",
    "from torchvision import datasets\n",
    "import torchvision.transforms as transforms\n",
    "import torch.optim as optim\n",
    "from datetime import datetime\n",
    "import pickle\n",
    "random_seed = 1\n",
    "\n",
    "# print multiple outputs\n",
    "# from IPython.core.interactiveshell import InteractiveShell\n",
    "# InteractiveShell.ast_node_interactivity = \"all\"\n",
    "\n",
    "%matplotlib\n",
    "%matplotlib inline\n"
   ]
  },
  {
   "cell_type": "code",
   "execution_count": 2,
   "metadata": {
    "execution": {
     "iopub.execute_input": "2020-10-10T18:07:04.922469Z",
     "iopub.status.busy": "2020-10-10T18:07:04.921768Z",
     "iopub.status.idle": "2020-10-10T18:07:10.204705Z",
     "shell.execute_reply": "2020-10-10T18:07:10.204025Z"
    },
    "papermill": {
     "duration": 5.655864,
     "end_time": "2020-10-10T18:07:10.204826",
     "exception": false,
     "start_time": "2020-10-10T18:07:04.548962",
     "status": "completed"
    },
    "tags": []
   },
   "outputs": [],
   "source": [
    "# set everything up for development on GPU\n",
    "\n",
    "if torch.cuda.is_available():\n",
    "    device = 'cuda:0'\n",
    "else:\n",
    "    device = 'cpu'\n",
    "    \n",
    "device\n",
    "\n",
    "# notice that tensor right now says that it is on cuda\n",
    "assert(torch.rand(3,2).to(device).get_device() == 0)"
   ]
  },
  {
   "cell_type": "markdown",
   "metadata": {
    "papermill": {
     "duration": 0.019886,
     "end_time": "2020-10-10T18:07:10.245503",
     "exception": false,
     "start_time": "2020-10-10T18:07:10.225617",
     "status": "completed"
    },
    "tags": []
   },
   "source": [
    "<a id=\"data\"></a>\n",
    "## Data\n",
    "\n",
    "---"
   ]
  },
  {
   "cell_type": "markdown",
   "metadata": {
    "papermill": {
     "duration": 0.019592,
     "end_time": "2020-10-10T18:07:10.285198",
     "exception": false,
     "start_time": "2020-10-10T18:07:10.265606",
     "status": "completed"
    },
    "tags": []
   },
   "source": [
    "<a id=\"preparing-data\"></a>\n",
    "\n",
    "### Preparing the Data"
   ]
  },
  {
   "cell_type": "code",
   "execution_count": 3,
   "metadata": {
    "execution": {
     "iopub.execute_input": "2020-10-10T18:07:10.333630Z",
     "iopub.status.busy": "2020-10-10T18:07:10.332689Z",
     "iopub.status.idle": "2020-10-10T18:07:16.824506Z",
     "shell.execute_reply": "2020-10-10T18:07:16.825039Z"
    },
    "papermill": {
     "duration": 6.52028,
     "end_time": "2020-10-10T18:07:16.825189",
     "exception": false,
     "start_time": "2020-10-10T18:07:10.304909",
     "status": "completed"
    },
    "tags": []
   },
   "outputs": [
    {
     "name": "stdout",
     "output_type": "stream",
     "text": [
      "Downloading http://yann.lecun.com/exdb/mnist/train-images-idx3-ubyte.gz to data/MNIST/raw/train-images-idx3-ubyte.gz\n"
     ]
    },
    {
     "data": {
      "application/vnd.jupyter.widget-view+json": {
       "model_id": "547721fa1cdd473ca7346e4b2efbf1f4",
       "version_major": 2,
       "version_minor": 0
      },
      "text/plain": [
       "HBox(children=(FloatProgress(value=1.0, bar_style='info', max=1.0), HTML(value='')))"
      ]
     },
     "metadata": {},
     "output_type": "display_data"
    },
    {
     "name": "stdout",
     "output_type": "stream",
     "text": [
      "Extracting data/MNIST/raw/train-images-idx3-ubyte.gz to data/MNIST/raw\n",
      "Downloading http://yann.lecun.com/exdb/mnist/train-labels-idx1-ubyte.gz to data/MNIST/raw/train-labels-idx1-ubyte.gz\n"
     ]
    },
    {
     "data": {
      "application/vnd.jupyter.widget-view+json": {
       "model_id": "1cfd247520734676ba0015772283d238",
       "version_major": 2,
       "version_minor": 0
      },
      "text/plain": [
       "HBox(children=(FloatProgress(value=1.0, bar_style='info', max=1.0), HTML(value='')))"
      ]
     },
     "metadata": {},
     "output_type": "display_data"
    },
    {
     "name": "stdout",
     "output_type": "stream",
     "text": [
      "Extracting data/MNIST/raw/train-labels-idx1-ubyte.gz to data/MNIST/raw\n",
      "Downloading http://yann.lecun.com/exdb/mnist/t10k-images-idx3-ubyte.gz to data/MNIST/raw/t10k-images-idx3-ubyte.gz\n",
      "\n"
     ]
    },
    {
     "data": {
      "application/vnd.jupyter.widget-view+json": {
       "model_id": "4e83485dbfc44a449db3de3336749570",
       "version_major": 2,
       "version_minor": 0
      },
      "text/plain": [
       "HBox(children=(FloatProgress(value=1.0, bar_style='info', max=1.0), HTML(value='')))"
      ]
     },
     "metadata": {},
     "output_type": "display_data"
    },
    {
     "name": "stdout",
     "output_type": "stream",
     "text": [
      "Extracting data/MNIST/raw/t10k-images-idx3-ubyte.gz to data/MNIST/raw\n",
      "Downloading http://yann.lecun.com/exdb/mnist/t10k-labels-idx1-ubyte.gz to data/MNIST/raw/t10k-labels-idx1-ubyte.gz\n"
     ]
    },
    {
     "data": {
      "application/vnd.jupyter.widget-view+json": {
       "model_id": "386bfe86e55d46a18e91c337952fcab4",
       "version_major": 2,
       "version_minor": 0
      },
      "text/plain": [
       "HBox(children=(FloatProgress(value=1.0, bar_style='info', max=1.0), HTML(value='')))"
      ]
     },
     "metadata": {},
     "output_type": "display_data"
    },
    {
     "name": "stdout",
     "output_type": "stream",
     "text": [
      "Extracting data/MNIST/raw/t10k-labels-idx1-ubyte.gz to data/MNIST/raw\n",
      "Processing...\n",
      "Done!\n"
     ]
    },
    {
     "name": "stderr",
     "output_type": "stream",
     "text": [
      "/opt/conda/lib/python3.7/site-packages/torchvision/datasets/mnist.py:469: UserWarning: The given NumPy array is not writeable, and PyTorch does not support non-writeable tensors. This means you can write to the underlying (supposedly non-writeable) NumPy array using the tensor. You may want to copy the array to protect its data or make it writeable before converting it to a tensor. This type of warning will be suppressed for the rest of this program. (Triggered internally at  /opt/conda/conda-bld/pytorch_1595629403081/work/torch/csrc/utils/tensor_numpy.cpp:141.)\n",
      "  return torch.from_numpy(parsed.astype(m[2], copy=False)).view(*s)\n"
     ]
    }
   ],
   "source": [
    "# number of subprocesses to use for data loading\n",
    "num_workers = 3\n",
    "# number of images to load per batch\n",
    "batch_size = 32\n",
    "\n",
    "# convert image to torch.FloatTensor\n",
    "transform = transforms.ToTensor()\n",
    "\n",
    "# choose the training and test datasets\n",
    "train_data = datasets.MNIST(root='data', train=True,\n",
    "                                   download=True, transform=transform)\n",
    "test_data = datasets.MNIST(root='data', train=False,\n",
    "                                  download=True, transform=transform)\n",
    "\n",
    "# prepare data loaders\n",
    "train_loader = torch.utils.data.DataLoader(train_data, batch_size=batch_size,\n",
    "    num_workers=num_workers, shuffle=True)\n",
    "test_loader = torch.utils.data.DataLoader(test_data, batch_size=batch_size, \n",
    "    num_workers=num_workers)"
   ]
  },
  {
   "cell_type": "markdown",
   "metadata": {
    "papermill": {
     "duration": 0.025476,
     "end_time": "2020-10-10T18:07:16.875407",
     "exception": false,
     "start_time": "2020-10-10T18:07:16.849931",
     "status": "completed"
    },
    "tags": []
   },
   "source": [
    "<a id=\"visualize-data\"></a>\n",
    "### Visualize a Batch of Training Data\n",
    "\n",
    "* Take a look at the data, make sure it is loaded in correctly.\n",
    "* Try and spot some patterns, get familiar with the dataset.\n"
   ]
  },
  {
   "cell_type": "code",
   "execution_count": 4,
   "metadata": {
    "execution": {
     "iopub.execute_input": "2020-10-10T18:07:16.933283Z",
     "iopub.status.busy": "2020-10-10T18:07:16.932519Z",
     "iopub.status.idle": "2020-10-10T18:07:17.303573Z",
     "shell.execute_reply": "2020-10-10T18:07:17.304288Z"
    },
    "papermill": {
     "duration": 0.404058,
     "end_time": "2020-10-10T18:07:17.304477",
     "exception": false,
     "start_time": "2020-10-10T18:07:16.900419",
     "status": "completed"
    },
    "tags": []
   },
   "outputs": [
    {
     "name": "stdout",
     "output_type": "stream",
     "text": [
      "\n",
      "\n",
      "\n",
      "\n"
     ]
    },
    {
     "data": {
      "image/png": "[encoded data removed]",
      "text/plain": [
       "<Figure size 432x288 with 1 Axes>"
      ]
     },
     "metadata": {
      "needs_background": "light"
     },
     "output_type": "display_data"
    },
    {
     "name": "stdout",
     "output_type": "stream",
     "text": [
      "\n",
      "\n",
      "tensor([5, 1, 8, 9, 1, 6, 9, 9, 6, 0, 7, 6, 0, 0, 9, 3, 6, 1, 2, 0, 0, 4, 0, 9,\n",
      "        0, 6, 5, 6, 3, 3, 4, 9])\n"
     ]
    }
   ],
   "source": [
    "def imshow(images, nrow=8):\n",
    "    images = torchvision.utils.make_grid(images, nrow=nrow);\n",
    "    npimg = images.numpy();\n",
    "    plt.imshow(np.transpose(npimg, (1, 2, 0)));\n",
    "    plt.show()\n",
    "\n",
    "\n",
    "# get some random training images\n",
    "dataiter = iter(train_loader)\n",
    "images, labels = dataiter.next()\n",
    "\n",
    "# show images\n",
    "imshow(images)\n",
    "print(labels)\n"
   ]
  },
  {
   "cell_type": "markdown",
   "metadata": {
    "papermill": {
     "duration": 0.027937,
     "end_time": "2020-10-10T18:07:17.362296",
     "exception": false,
     "start_time": "2020-10-10T18:07:17.334359",
     "status": "completed"
    },
    "tags": []
   },
   "source": [
    "### View an Image in More Detail"
   ]
  },
  {
   "cell_type": "code",
   "execution_count": 5,
   "metadata": {
    "execution": {
     "iopub.execute_input": "2020-10-10T18:07:17.436132Z",
     "iopub.status.busy": "2020-10-10T18:07:17.427176Z",
     "iopub.status.idle": "2020-10-10T18:07:21.491952Z",
     "shell.execute_reply": "2020-10-10T18:07:21.492631Z"
    },
    "papermill": {
     "duration": 4.102358,
     "end_time": "2020-10-10T18:07:21.492809",
     "exception": false,
     "start_time": "2020-10-10T18:07:17.390451",
     "status": "completed"
    },
    "tags": []
   },
   "outputs": [
    {
     "data": {
      "image/png": "[encoded data removed]",
      "text/plain": [
       "<Figure size 864x864 with 1 Axes>"
      ]
     },
     "metadata": {
      "needs_background": "light"
     },
     "output_type": "display_data"
    }
   ],
   "source": [
    "img = np.squeeze(images[1])\n",
    "\n",
    "fig = plt.figure(figsize = (12,12)) \n",
    "ax = fig.add_subplot(111)\n",
    "ax.imshow(img, cmap='gray')\n",
    "width, height = img.shape\n",
    "thresh = img.max()/2.5\n",
    "for x in range(width):\n",
    "    for y in range(height):\n",
    "        val = torch.round(img[x][y]) if img[x][y] !=0 else 0\n",
    "        ax.annotate(str(val), xy=(y,x),\n",
    "                    horizontalalignment='center',\n",
    "                    verticalalignment='center',\n",
    "                    color='white' if img[x][y]<thresh else 'black')"
   ]
  },
  {
   "cell_type": "markdown",
   "metadata": {
    "papermill": {
     "duration": 0.030683,
     "end_time": "2020-10-10T18:07:21.554793",
     "exception": false,
     "start_time": "2020-10-10T18:07:21.524110",
     "status": "completed"
    },
    "tags": []
   },
   "source": [
    "<a id=\"architecture\"></a>\n",
    "## Architecture\n",
    "\n",
    "---"
   ]
  },
  {
   "cell_type": "markdown",
   "metadata": {
    "papermill": {
     "duration": 0.030965,
     "end_time": "2020-10-10T18:07:21.616295",
     "exception": false,
     "start_time": "2020-10-10T18:07:21.585330",
     "status": "completed"
    },
    "tags": []
   },
   "source": [
    "<a id=\"network-architecture\"></a>\n",
    "### Define the Network [Architecture](http://pytorch.org/docs/stable/nn.html)\n",
    "\n",
    "\n",
    "The architecture will be responsible for taking 784-dimensional Tensor(where each one of the pixels is considered an initial feature), and producing a Tensor of length 10 (our number of classes) that indicates the class scores for an input image.\n",
    "\n",
    "- The nodes are what hold the actual data. First layer nodes will hold the initial inputs as features, and later layer nodes will represent more and more abstract features that the network learns based on combinations of features from previous layeres\n",
    "- Layers (the ones in init) apply a specific transformation to the inputs. For example a linear transformation `nn.Linear(inputs, outputs)` will apply the equation $y=x*W^T+b$ to the transformation.\n"
   ]
  },
  {
   "cell_type": "code",
   "execution_count": 6,
   "metadata": {
    "execution": {
     "iopub.execute_input": "2020-10-10T18:07:21.690130Z",
     "iopub.status.busy": "2020-10-10T18:07:21.689252Z",
     "iopub.status.idle": "2020-10-10T18:07:21.703514Z",
     "shell.execute_reply": "2020-10-10T18:07:21.704179Z"
    },
    "papermill": {
     "duration": 0.058108,
     "end_time": "2020-10-10T18:07:21.704328",
     "exception": false,
     "start_time": "2020-10-10T18:07:21.646220",
     "status": "completed"
    },
    "tags": []
   },
   "outputs": [
    {
     "name": "stdout",
     "output_type": "stream",
     "text": [
      "Net(\n",
      "  (fc1): Linear(in_features=784, out_features=512, bias=True)\n",
      "  (fc2): Linear(in_features=512, out_features=512, bias=True)\n",
      "  (fc3): Linear(in_features=512, out_features=10, bias=True)\n",
      "  (dropout): Dropout(p=0.2, inplace=False)\n",
      ")\n"
     ]
    }
   ],
   "source": [
    "import torch.nn as nn\n",
    "import torch.nn.functional as F\n",
    "\n",
    "# define the NN architecture\n",
    "class Net(nn.Module):\n",
    "    def __init__(self, num_features_in, num_features_out):\n",
    "        super(Net, self).__init__()\n",
    "        # number of hidden nodes in each layer (512)\n",
    "        hidden_1 = 512\n",
    "        hidden_2 = 512\n",
    "        # linear layer (num_features_in -> hidden_1)\n",
    "        self.fc1 = nn.Linear(num_features_in, hidden_1)\n",
    "        # linear layer (n_hidden -> hidden_2)\n",
    "        self.fc2 = nn.Linear(hidden_1, hidden_2)\n",
    "        # linear layer (n_hidden -> 10)\n",
    "        self.fc3 = nn.Linear(hidden_2, num_features_out)\n",
    "        # dropout layer (p=0.2)\n",
    "        # dropout prevents overfitting of data\n",
    "        self.dropout = nn.Dropout(0.2)\n",
    "\n",
    "    def forward(self, x):\n",
    "        # flatten image input\n",
    "        x = x.view(-1, 28 * 28)\n",
    "        # add hidden layer, with relu activation function\n",
    "        x = F.relu(self.fc1(x))\n",
    "        # add dropout layer\n",
    "        x = self.dropout(x)\n",
    "        # add hidden layer, with relu activation function\n",
    "        x = F.relu(self.fc2(x))\n",
    "        # add dropout layer\n",
    "        x = self.dropout(x)\n",
    "        # add output layer\n",
    "        x = self.fc3(x)\n",
    "        return x\n",
    "\n",
    "# initialize the NN\n",
    "model = Net(28*28,10).to(device)\n",
    "print(model)"
   ]
  },
  {
   "cell_type": "markdown",
   "metadata": {
    "papermill": {
     "duration": 0.031853,
     "end_time": "2020-10-10T18:07:21.767745",
     "exception": false,
     "start_time": "2020-10-10T18:07:21.735892",
     "status": "completed"
    },
    "tags": []
   },
   "source": [
    "<a id=\"loss-optimizer\"></a>\n",
    "###  Specify [Loss Function](http://pytorch.org/docs/stable/nn.html#loss-functions) and [Optimizer](http://pytorch.org/docs/stable/optim.html)\n",
    "\n",
    "It's recommended that you use cross-entropy loss for classification. If you look at the documentation (linked above), you can see that PyTorch's cross entropy function applies a softmax funtion to the output layer *and* then calculates the log loss."
   ]
  },
  {
   "cell_type": "code",
   "execution_count": 7,
   "metadata": {
    "execution": {
     "iopub.execute_input": "2020-10-10T18:07:21.835962Z",
     "iopub.status.busy": "2020-10-10T18:07:21.835173Z",
     "iopub.status.idle": "2020-10-10T18:07:21.838835Z",
     "shell.execute_reply": "2020-10-10T18:07:21.838265Z"
    },
    "papermill": {
     "duration": 0.039268,
     "end_time": "2020-10-10T18:07:21.838933",
     "exception": false,
     "start_time": "2020-10-10T18:07:21.799665",
     "status": "completed"
    },
    "tags": []
   },
   "outputs": [],
   "source": [
    "# specify loss function (categorical cross-entropy)\n",
    "criterion = nn.CrossEntropyLoss()\n",
    "\n",
    "# specify optimizer (stochastic gradient descent) and learning rate = 0.01\n",
    "optimizer = torch.optim.SGD(model.parameters(), lr=0.01)"
   ]
  },
  {
   "cell_type": "markdown",
   "metadata": {
    "papermill": {
     "duration": 0.031034,
     "end_time": "2020-10-10T18:07:21.902238",
     "exception": false,
     "start_time": "2020-10-10T18:07:21.871204",
     "status": "completed"
    },
    "tags": []
   },
   "source": [
    "<a id=\"train\"></a>\n",
    "## Train the Network\n",
    "\n",
    "---\n",
    "\n",
    "The steps for training/learning from a batch of data are described in the comments below:\n",
    "1. Clear the gradients of all optimized variables\n",
    "2. Forward pass: compute predicted outputs by passing inputs to the model\n",
    "3. Calculate the loss\n",
    "4. Backward pass: Based on the loss, do backpropagation and calculate the gradient, i.e compute gradient of the loss with respect to model parameters\n",
    "5. Update the weights: Perform a single optimization step (parameter update)\n",
    "6. Update average training loss\n",
    "\n",
    "* Notice how values for training loss decrease over time.\n",
    "* Want it to keep decreasing whilst at the same time avoiding overfitting the data"
   ]
  },
  {
   "cell_type": "code",
   "execution_count": 8,
   "metadata": {
    "execution": {
     "iopub.execute_input": "2020-10-10T18:07:21.970078Z",
     "iopub.status.busy": "2020-10-10T18:07:21.969251Z",
     "iopub.status.idle": "2020-10-10T18:07:21.972739Z",
     "shell.execute_reply": "2020-10-10T18:07:21.972143Z"
    },
    "papermill": {
     "duration": 0.03897,
     "end_time": "2020-10-10T18:07:21.972845",
     "exception": false,
     "start_time": "2020-10-10T18:07:21.933875",
     "status": "completed"
    },
    "tags": []
   },
   "outputs": [],
   "source": [
    "# number of epochs to train the model\n",
    "n_epochs = 3\n",
    "train_losses = []"
   ]
  },
  {
   "cell_type": "code",
   "execution_count": 9,
   "metadata": {
    "execution": {
     "iopub.execute_input": "2020-10-10T18:07:22.045533Z",
     "iopub.status.busy": "2020-10-10T18:07:22.044670Z",
     "iopub.status.idle": "2020-10-10T18:07:53.056993Z",
     "shell.execute_reply": "2020-10-10T18:07:53.057685Z"
    },
    "papermill": {
     "duration": 31.05318,
     "end_time": "2020-10-10T18:07:53.057865",
     "exception": false,
     "start_time": "2020-10-10T18:07:22.004685",
     "status": "completed"
    },
    "tags": []
   },
   "outputs": [
    {
     "name": "stdout",
     "output_type": "stream",
     "text": [
      "Epoch: 1 Training Loss: 1.0856\n",
      "Epoch: 2 Training Loss: 0.3878\n",
      "Epoch: 3 Training Loss: 0.3141\n"
     ]
    }
   ],
   "source": [
    "model.train() # prep model for training\n",
    "\n",
    "for epoch in range(n_epochs):\n",
    "    # monitor training loss\n",
    "    train_loss = 0.0\n",
    "    \n",
    "    ###################\n",
    "    # train the model #\n",
    "    ###################\n",
    "    for data, target in train_loader:\n",
    "        data = data.to(device)\n",
    "        target = target.to(device)\n",
    "        # clear the gradients from its state(all optimized variables)\n",
    "        optimizer.zero_grad()\n",
    "        # forward pass: compute the predictions by passing inputs to the model\n",
    "        output = model(data)\n",
    "        # calculate the loss\n",
    "        loss = criterion(output, target)\n",
    "        # backward pass: compute gradient of the loss with respect to each one of the model parameters\n",
    "        loss.backward()\n",
    "        # perform a single optimization step (parameter update)\n",
    "        optimizer.step()\n",
    "        # Add running training loss\n",
    "        train_loss += loss.item()*data.shape[0]\n",
    "             \n",
    "    # average train loss running training loss(loss1*len(batch1)+..+lossn*len(batchn))/num_imgs\n",
    "    train_loss = train_loss/len(train_loader.dataset)\n",
    "    train_losses.append(train_loss)\n",
    "    print(f\"Epoch: {epoch+1} Training Loss: {round(train_loss,4)}\")"
   ]
  },
  {
   "cell_type": "code",
   "execution_count": 10,
   "metadata": {
    "execution": {
     "iopub.execute_input": "2020-10-10T18:07:53.137213Z",
     "iopub.status.busy": "2020-10-10T18:07:53.130887Z",
     "iopub.status.idle": "2020-10-10T18:07:53.312614Z",
     "shell.execute_reply": "2020-10-10T18:07:53.313184Z"
    },
    "papermill": {
     "duration": 0.223016,
     "end_time": "2020-10-10T18:07:53.313326",
     "exception": false,
     "start_time": "2020-10-10T18:07:53.090310",
     "status": "completed"
    },
    "tags": []
   },
   "outputs": [
    {
     "data": {
      "image/png": "[encoded data removed]",
      "text/plain": [
       "<Figure size 432x288 with 1 Axes>"
      ]
     },
     "metadata": {
      "needs_background": "light"
     },
     "output_type": "display_data"
    }
   ],
   "source": [
    "plt.plot(range(len(train_losses)), train_losses, label='train loss')\n",
    "plt.legend()\n",
    "plt.show()"
   ]
  },
  {
   "cell_type": "markdown",
   "metadata": {
    "papermill": {
     "duration": 0.035677,
     "end_time": "2020-10-10T18:07:53.385893",
     "exception": false,
     "start_time": "2020-10-10T18:07:53.350216",
     "status": "completed"
    },
    "tags": []
   },
   "source": [
    "<a id=\"save-load\"></a>\n",
    "### Saving and Loading a model\n",
    "\n",
    "* This step is optional, however it makes sure that the data of your model is saved in a format which you can easily retrieve later on, instead of having to retrain your model.\n",
    "* Also helps if you're training your network online, somewhere where the kernel can be interrupted due to inactivity(like kaggle), in which case saving it at the end will guarantee it a persistent place.\n",
    "* **Loading**: When you're loading a state dict into a model, the model has to have the same shapes as the saved state_dict, i.e **you cannot alter the model architecture** after you've saved it.\n"
   ]
  },
  {
   "cell_type": "code",
   "execution_count": 11,
   "metadata": {
    "execution": {
     "iopub.execute_input": "2020-10-10T18:07:53.463914Z",
     "iopub.status.busy": "2020-10-10T18:07:53.461654Z",
     "iopub.status.idle": "2020-10-10T18:07:53.467412Z",
     "shell.execute_reply": "2020-10-10T18:07:53.466950Z"
    },
    "papermill": {
     "duration": 0.047664,
     "end_time": "2020-10-10T18:07:53.467516",
     "exception": false,
     "start_time": "2020-10-10T18:07:53.419852",
     "status": "completed"
    },
    "tags": []
   },
   "outputs": [],
   "source": [
    "def save_checkpoint(model, optimizer, epoch,path='/kaggle/working/', f_name='checkpoint'):\n",
    "    '''Here\\'s the following information we need to save an intermediary\n",
    "    checkpoint from which we can resume later on:\n",
    "    1. Model parameters. These are the things that are being optimized in training,\n",
    "    so we definitely want to save them and resume from them\n",
    "    2. The optimizer also has its own parameters depending on the optimizer: learning rate, momentum, beta, etc.\n",
    "    If you want to continue using the same optimizer, you need to save its parameters.\n",
    "    Some optimizers like Adam, have adaptive parameters(learning rate), so you need to save a snapshot of it,\n",
    "    just like you would save a snapshot of the model parmaeters, if you want to continue training **exactly** from\n",
    "    the moment you left off\n",
    "    '''\n",
    "    checkpoint = {\n",
    "    'network_dict': model.state_dict(),\n",
    "    'optimizer_dict': optimizer.state_dict(),\n",
    "    'epoch': epoch\n",
    "    }\n",
    "    full_name = path + f_name + '.th'\n",
    "    torch.save(checkpoint, full_name)\n",
    "\n",
    "def load_checkpoint(model, optimizer, path='/kaggle/working/', f_name='checkpoint'):\n",
    "    '''Example of loading it:\n",
    "    Make sure model and optiizer are the same\n",
    "    model = Net(784, 10)\n",
    "    optimizer = torch.optim.SGD(model.parameters(), lr=0.01)\n",
    "    load_checkpoint(model, optimizer)\n",
    "    '''\n",
    "    full_name = path + f_name + '.th'\n",
    "    checkpoint = torch.load(full_name)\n",
    "    model.load_state_dict(checkpoint['network_dict'])\n",
    "    optimizer.load_state_dict(checkpoint['optimizer_dict'])\n",
    "    epoch = checkpoint['epoch']\n",
    "    return epoch"
   ]
  },
  {
   "cell_type": "code",
   "execution_count": 12,
   "metadata": {
    "execution": {
     "iopub.execute_input": "2020-10-10T18:07:53.538845Z",
     "iopub.status.busy": "2020-10-10T18:07:53.538164Z",
     "iopub.status.idle": "2020-10-10T18:07:53.555884Z",
     "shell.execute_reply": "2020-10-10T18:07:53.555287Z"
    },
    "papermill": {
     "duration": 0.054934,
     "end_time": "2020-10-10T18:07:53.555996",
     "exception": false,
     "start_time": "2020-10-10T18:07:53.501062",
     "status": "completed"
    },
    "tags": []
   },
   "outputs": [],
   "source": [
    "save_checkpoint(model, optimizer, epoch)"
   ]
  },
  {
   "cell_type": "markdown",
   "metadata": {
    "papermill": {
     "duration": 0.033649,
     "end_time": "2020-10-10T18:07:53.623878",
     "exception": false,
     "start_time": "2020-10-10T18:07:53.590229",
     "status": "completed"
    },
    "tags": []
   },
   "source": [
    "<a id=\"test\"></a>\n",
    "## Test the Trained Network\n",
    "\n",
    "---\n",
    "\n",
    "Finally, we test our best model on previously unseen **test data** and evaluate it's performance. Testing on unseen data is a good way to check that our model generalizes well. It may also be useful to be granular in this analysis and take a look at how this model performs on each class as well as looking at its overall loss and accuracy."
   ]
  },
  {
   "cell_type": "code",
   "execution_count": 13,
   "metadata": {
    "execution": {
     "iopub.execute_input": "2020-10-10T18:07:53.708849Z",
     "iopub.status.busy": "2020-10-10T18:07:53.707071Z",
     "iopub.status.idle": "2020-10-10T18:07:55.670006Z",
     "shell.execute_reply": "2020-10-10T18:07:55.670888Z"
    },
    "papermill": {
     "duration": 2.01285,
     "end_time": "2020-10-10T18:07:55.671036",
     "exception": false,
     "start_time": "2020-10-10T18:07:53.658186",
     "status": "completed"
    },
    "tags": []
   },
   "outputs": [
    {
     "name": "stdout",
     "output_type": "stream",
     "text": [
      "Test Loss: 0.255297\n",
      "\n",
      "Test Accuracy of 0:              98.47%              965.0/980.0\n",
      "Test Accuracy of 1:              97.53%              1107.0/1135.0\n",
      "Test Accuracy of 2:              88.86%              917.0/1032.0\n",
      "Test Accuracy of 3:              90.89%              918.0/1010.0\n",
      "Test Accuracy of 4:              94.91%              932.0/982.0\n",
      "Test Accuracy of 5:              89.46%              798.0/892.0\n",
      "Test Accuracy of 6:              94.68%              907.0/958.0\n",
      "Test Accuracy of 7:              93.29%              959.0/1028.0\n",
      "Test Accuracy of 8:              87.99%              857.0/974.0\n",
      "Test Accuracy of 9:              88.5%              893.0/1009.0\n",
      "Test Accuracy (Overall): 92.53% 9253.0/10000.0\n"
     ]
    }
   ],
   "source": [
    "# initialize lists to monitor test loss and accuracy\n",
    "test_loss = 0.0\n",
    "class_correct = list(0. for i in range(10))\n",
    "class_total = list(0. for i in range(10))\n",
    "\n",
    "model.eval() # prep model for evaluation\n",
    "with torch.no_grad():\n",
    "    for data, target in test_loader:\n",
    "        data = data.to(device)\n",
    "        target = target.to(device)\n",
    "        # forward pass: compute predicted outputs by passing inputs to the model\n",
    "        output = model(data)\n",
    "        # calculate the loss\n",
    "        loss = criterion(output, target)\n",
    "        # update test loss \n",
    "        test_loss += loss.item()*data.shape[0]\n",
    "        # convert output probabilities to predicted class\n",
    "        pred = torch.argmax(output,1)\n",
    "        # compare predictions to true label\n",
    "        correct = pred.eq(target)\n",
    "        # calculate test accuracy for each object class\n",
    "        for i in range(len(target)):\n",
    "            label = target.data[i]\n",
    "            class_correct[label] += correct[i].item()\n",
    "            class_total[label] += 1\n",
    "\n",
    "# calculate and print avg test loss\n",
    "test_loss = test_loss/len(test_loader.dataset)\n",
    "print(f\"Test Loss: {round(test_loss,6)}\\n\")\n",
    "\n",
    "for i in range(10):\n",
    "    if class_total[i] > 0:\n",
    "        print(f\"Test Accuracy of {round(i,5)}:\\\n",
    "              {round(100 * class_correct[i] / class_total[i],2)}%\\\n",
    "              {round(np.sum(class_correct[i]),2)}/{round(np.sum(class_total[i]),2)}\")\n",
    "\n",
    "    else:\n",
    "        print(f\"Test Accuracy of {round(classes[i],5)}: N/A (no training examples)\")\n",
    "\n",
    "print(f\"Test Accuracy (Overall): {round(100. * np.sum(class_correct) / np.sum(class_total),2)}% {round(np.sum(class_correct),2)}/{round(np.sum(class_total),2)}\")"
   ]
  },
  {
   "cell_type": "markdown",
   "metadata": {
    "papermill": {
     "duration": 0.033289,
     "end_time": "2020-10-10T18:07:55.738586",
     "exception": false,
     "start_time": "2020-10-10T18:07:55.705297",
     "status": "completed"
    },
    "tags": []
   },
   "source": [
    "<a id=\"vizualize-test\"></a>\n",
    "#### Visualize Sample Test Results\n",
    "\n",
    "This cell displays test images and their labels in this format: `predicted (ground-truth)`. The text will be green for accurately classified examples and red for incorrect predictions."
   ]
  },
  {
   "cell_type": "code",
   "execution_count": 14,
   "metadata": {
    "execution": {
     "iopub.execute_input": "2020-10-10T18:07:55.826366Z",
     "iopub.status.busy": "2020-10-10T18:07:55.823947Z",
     "iopub.status.idle": "2020-10-10T18:07:58.745094Z",
     "shell.execute_reply": "2020-10-10T18:07:58.744001Z"
    },
    "papermill": {
     "duration": 2.972231,
     "end_time": "2020-10-10T18:07:58.745219",
     "exception": false,
     "start_time": "2020-10-10T18:07:55.772988",
     "status": "completed"
    },
    "tags": []
   },
   "outputs": [
    {
     "data": {
      "image/png": "[encoded data removed]",
      "text/plain": [
       "<Figure size 432x288 with 1 Axes>"
      ]
     },
     "metadata": {
      "needs_background": "light"
     },
     "output_type": "display_data"
    },
    {
     "name": "stdout",
     "output_type": "stream",
     "text": [
      "correct classes are:['5', '4', '9', '9', '2', '3', '9', '7']\n",
      "predicted classes are:['6', '6', '4', '7', '7', '5', '4', '4']\n"
     ]
    },
    {
     "data": {
      "image/png": "[encoded data removed]",
      "text/plain": [
       "<Figure size 432x288 with 1 Axes>"
      ]
     },
     "metadata": {
      "needs_background": "light"
     },
     "output_type": "display_data"
    },
    {
     "name": "stdout",
     "output_type": "stream",
     "text": [
      "correct classes are:['2', '9', '6', '8', '9', '3', '4', '6']\n",
      "predicted classes are:['9', '4', '5', '7', '8', '5', '2', '0']\n"
     ]
    },
    {
     "data": {
      "image/png": "[encoded data removed]",
      "text/plain": [
       "<Figure size 432x288 with 1 Axes>"
      ]
     },
     "metadata": {
      "needs_background": "light"
     },
     "output_type": "display_data"
    },
    {
     "name": "stdout",
     "output_type": "stream",
     "text": [
      "correct classes are:['8', '4', '3', '2', '9', '2', '5', '6']\n",
      "predicted classes are:['4', '6', '5', '3', '7', '7', '3', '4']\n"
     ]
    },
    {
     "data": {
      "image/png": "[encoded data removed]",
      "text/plain": [
       "<Figure size 432x288 with 1 Axes>"
      ]
     },
     "metadata": {
      "needs_background": "light"
     },
     "output_type": "display_data"
    },
    {
     "name": "stdout",
     "output_type": "stream",
     "text": [
      "correct classes are:['5', '2', '3', '8', '2', '6', '9', '3']\n",
      "predicted classes are:['0', '7', '7', '7', '8', '0', '8', '5']\n"
     ]
    },
    {
     "data": {
      "image/png": "[encoded data removed]",
      "text/plain": [
       "<Figure size 432x288 with 1 Axes>"
      ]
     },
     "metadata": {
      "needs_background": "light"
     },
     "output_type": "display_data"
    },
    {
     "name": "stdout",
     "output_type": "stream",
     "text": [
      "correct classes are:['6', '5', '9', '8', '5', '3', '4', '3']\n",
      "predicted classes are:['5', '8', '3', '0', '3', '5', '8', '6']\n"
     ]
    },
    {
     "data": {
      "image/png": "[encoded data removed]",
      "text/plain": [
       "<Figure size 432x288 with 1 Axes>"
      ]
     },
     "metadata": {
      "needs_background": "light"
     },
     "output_type": "display_data"
    },
    {
     "name": "stdout",
     "output_type": "stream",
     "text": [
      "correct classes are:['2', '8', '7', '8', '4', '3', '3', '8']\n",
      "predicted classes are:['1', '3', '1', '6', '9', '5', '2', '2']\n"
     ]
    },
    {
     "data": {
      "image/png": "[encoded data removed]",
      "text/plain": [
       "<Figure size 432x288 with 1 Axes>"
      ]
     },
     "metadata": {
      "needs_background": "light"
     },
     "output_type": "display_data"
    },
    {
     "name": "stdout",
     "output_type": "stream",
     "text": [
      "correct classes are:['8', '4', '2', '1', '9', '3', '2', '2']\n",
      "predicted classes are:['3', '6', '8', '8', '4', '9', '6', '9']\n"
     ]
    },
    {
     "data": {
      "image/png": "[encoded data removed]",
      "text/plain": [
       "<Figure size 432x288 with 1 Axes>"
      ]
     },
     "metadata": {
      "needs_background": "light"
     },
     "output_type": "display_data"
    },
    {
     "name": "stdout",
     "output_type": "stream",
     "text": [
      "correct classes are:['7', '8', '4', '8', '0', '5', '2', '2']\n",
      "predicted classes are:['3', '4', '9', '5', '6', '8', '8', '8']\n"
     ]
    },
    {
     "data": {
      "image/png": "[encoded data removed]",
      "text/plain": [
       "<Figure size 432x288 with 1 Axes>"
      ]
     },
     "metadata": {
      "needs_background": "light"
     },
     "output_type": "display_data"
    },
    {
     "name": "stdout",
     "output_type": "stream",
     "text": [
      "correct classes are:['4', '2', '4', '5', '8', '7', '8', '8']\n",
      "predicted classes are:['9', '8', '9', '9', '5', '2', '3', '7']\n"
     ]
    },
    {
     "data": {
      "image/png": "[encoded data removed]",
      "text/plain": [
       "<Figure size 432x288 with 1 Axes>"
      ]
     },
     "metadata": {
      "needs_background": "light"
     },
     "output_type": "display_data"
    },
    {
     "name": "stdout",
     "output_type": "stream",
     "text": [
      "correct classes are:['5', '4', '7', '2', '3', '2', '8', '7']\n",
      "predicted classes are:['3', '9', '2', '7', '5', '0', '9', '2']\n"
     ]
    }
   ],
   "source": [
    "# get a batch of examples\n",
    "model.eval()\n",
    "num_per_group = 8\n",
    "num_groups_to_show=10\n",
    "total_mislabeled_images = []\n",
    "total_actual_classes = []\n",
    "total_predicted_classes = []\n",
    "for data, target in test_loader:\n",
    "    images, labels = data.to(device), target.to(device)\n",
    "\n",
    "    # pass it through the model, and get the predictions\n",
    "    predictions = model(images)\n",
    "    predictions = torch.argmax(predictions,dim=1)\n",
    "\n",
    "    # get list of classes\n",
    "    images = images.to('cpu')\n",
    "    labels = labels.to('cpu')\n",
    "    predictions = predictions.to('cpu')\n",
    "\n",
    "    # analyse\n",
    "    classes = np.array(test_data.classes)\n",
    "    actual_classes = classes[labels]\n",
    "    predicted_classes = classes[predictions]\n",
    "    # curr format is 0-zero. Get only the 0 char\n",
    "    actual_classes = np.array([el[0] for el in actual_classes])\n",
    "    predicted_classes = np.array([el[0] for el in predicted_classes])\n",
    "\n",
    "    wrong_indices = np.where(predicted_classes != actual_classes)\n",
    "    mislabeled_images = images[wrong_indices]\n",
    "    \n",
    "    \n",
    "    # aggregate everything\n",
    "    total_mislabeled_images.append(mislabeled_images.numpy())\n",
    "    total_actual_classes.extend(actual_classes[wrong_indices])\n",
    "    total_predicted_classes.extend(predicted_classes[wrong_indices])\n",
    "\n",
    "# display results\n",
    "total_mislabeled_images = np.vstack(np.array(total_mislabeled_images))\n",
    "num_splits = total_mislabeled_images.shape[0] // num_per_group\n",
    "mislabeled_list = np.split(total_mislabeled_images[:num_splits*num_per_group],num_splits)\n",
    "count = 0\n",
    "for group in mislabeled_list:\n",
    "    group = torch.Tensor(group)\n",
    "    imshow(group);\n",
    "    print(\"correct classes are:\" + str(total_actual_classes[count*num_per_group:(count+1)*num_per_group]));\n",
    "    print(\"predicted classes are:\" + str(total_predicted_classes[count*num_per_group:(count+1)*num_per_group]));\n",
    "    count+=1\n",
    "    if(count == num_groups_to_show):\n",
    "        break"
   ]
  },
  {
   "cell_type": "markdown",
   "metadata": {
    "papermill": {
     "duration": 0.045766,
     "end_time": "2020-10-10T18:07:58.843290",
     "exception": false,
     "start_time": "2020-10-10T18:07:58.797524",
     "status": "completed"
    },
    "tags": []
   },
   "source": [
    "<a id=\"other-notes\"></a>\n",
    "## Other Notes\n",
    "\n",
    "---"
   ]
  },
  {
   "cell_type": "markdown",
   "metadata": {
    "papermill": {
     "duration": 0.046108,
     "end_time": "2020-10-10T18:07:58.935061",
     "exception": false,
     "start_time": "2020-10-10T18:07:58.888953",
     "status": "completed"
    },
    "tags": []
   },
   "source": [
    "<a id=\"transformers\"></a>\n",
    "### Transformers\n",
    "\n",
    "These are common image transformations. *They are chained together using `Compose`*\n",
    "\n",
    "Example:\n",
    "```python\n",
    "\n",
    "    transformer = transforms.Compose([\n",
    "        transforms.CenterCrop(10),\n",
    "        ..., # any other relevant transforms\n",
    "        transforms.ToTensor(), # Mandatory!!! always add this at the end\n",
    "        transforms.Normalize() # Mandatory!!!\n",
    "\n",
    "    ])\n",
    "```\n",
    "\n",
    "<mark>*Note*: Always use a `transforms.ToTensor()` at the end to convert to a tensor(default unit in Pytorch), and use a `transforms.Normalize` to normalize your tensor.</mark>\n",
    "\n",
    "#### Transformer examples\n",
    "\n",
    "* `transforms.Resize`: resize input PIL to given size\n",
    "* `transforms.CenterCrop`: crops a PIL image at the center\n",
    "* `transforms.ColorJitter`: randomly change brigthness, contrast and saturation of an image \n",
    "* `transforms.FiveCrop`: crops given PIL image into 4 cournes and 1 central crop, essentially creating 5 different images. \n",
    "* `transforms.GrayScale`: convert to grayscale\n",
    "* `transforms.RandomCrop`: crop given PIL image at random location\n",
    "* `transforms.RandomHorizontalFlip/RandomVerticalFlip`: randomly flip horizontally/vertically\n",
    "* `transforms.RandomRotation`: rotate the image by a random angle\n",
    "\n",
    "\n",
    "\n",
    "\n",
    "#### Impact of transforms on dataset size\n",
    "\n",
    "[Relevant link](https://discuss.pytorch.org/t/how-to-increase-number-of-images-with-data-augmentation/45795)\n",
    "\n",
    "**Note**: transforms don't actually increase the size of your dataset, *however*, **they apply the series of transformatiosn** to every image in a batch, therefore, every time you run the same batch, you will actually get a different set of images. This means that to train your network on more images, simply increase the number of epochs(i.e train it for longer), as the same batch will yield different images every time it's run, and therefore more training data for the network!.\n",
    "\n",
    "\n",
    "#### Normalizing a transformer\n",
    "\n",
    "\n",
    "##### Why\n",
    "\n",
    "By keeping the network inputs close to 0, normalization makes the training process *a lot faster*. [More in-depth explanation](https://stats.stackexchange.com/questions/185853/why-do-we-need-to-normalize-the-images-before-we-put-them-into-cnn)\n",
    "\n",
    "\n",
    "###### How\n",
    "\n",
    "From [InnovArul](https://discuss.pytorch.org/t/understanding-transform-normalize/21730):\n",
    "\n",
    ">\n",
    ">Normalize does the following for each channel:\n",
    ">\n",
    ">image = (image - mean) / std\n",
    ">\n",
    ">The parameters mean, std are passed as 0.5, 0.5 in your case. This will normalize the image in the range [-1,1]. For example, the minimum value 0 will be >converted to (0-0.5)/0.5=-1, the maximum value of 1 will be converted to (1-0.5)/0.5=1.\n",
    ">\n",
    ">if you would like to get your image back in [0,1] range, you could use,\n",
    ">\n",
    ">image = ((image * std) + mean)\n"
   ]
  },
  {
   "cell_type": "markdown",
   "metadata": {
    "papermill": {
     "duration": 0.045747,
     "end_time": "2020-10-10T18:07:59.026487",
     "exception": false,
     "start_time": "2020-10-10T18:07:58.980740",
     "status": "completed"
    },
    "tags": []
   },
   "source": [
    "<a id=\"dataloader\"></a>\n",
    "### DataLoader\n",
    "\n",
    "\n",
    "* Get data in a format that you can use in Pytorch\n",
    "* Get an iterator for the data. `DataLoader` class is perfect for this. You could just iterate through the data by yourself, but using the DataLoader allows you to very easily select different properties like:\n",
    "    * The batch size, i.e how many images or pieces of data you will train your network on in one forward pass. You don't want to train it on **all** of your data since that will be very computationally heavy, both to do a forward pass, and then respectively a backward one, since you will have to calculate the gradient for much bigger matrices(#TODO: why?). Therefore, we choose a batch size that allows computational efficiency.\n",
    "    * shuffle: you can easily shuffle all of the images in each batch before you iterate through it. #TODO:explain why\n",
    "    * drop_last: drop the last batch if incomplete\n",
    "    * many others\n",
    "\n",
    "\n",
    "#### Speeding Up DataLoader\n",
    "\n",
    "From: [pytorch forum 1](https://discuss.pytorch.org/t/why-is-pytorchs-gpu-utilization-so-low-in-production-not-training/38366/4\n",
    "),[pytorch forum 2](https://discuss.pytorch.org/t/gpu-not-fully-used/34102/3) :\n",
    "> If you set pin_memory=True in your DataLoader the data in your Dataset will be loaded into pinned host memory, which makes the transfer to the device faster. Have a look at NVIDIA’s blog post 41 about this topic.\n",
    "\n",
    "\n",
    "* A lot of the times during training, the dataloader seems to take a lot more time than the forward pass.\n",
    "* Here's some things to do to speed things up:\n",
    "    * Add: `pin_memory = True` to dataloader, and `non_blocking = True` to tensor that's getting data from dataloader\n",
    "    * Add `non_blocking=True` to the tensor.to(). Have to be careful here, cause it's a bit of a tradeoff since an increase in num_workers will increase RAM. so find a good number from experimentation.\n",
    "    * Another option, though think about it carefully, is to not shuffle the data, i.e `shuffle=False`\n",
    "\n"
   ]
  },
  {
   "cell_type": "markdown",
   "metadata": {
    "papermill": {
     "duration": 0.046265,
     "end_time": "2020-10-10T18:07:59.118187",
     "exception": false,
     "start_time": "2020-10-10T18:07:59.071922",
     "status": "completed"
    },
    "tags": []
   },
   "source": [
    "<a id=\"autograd\"></a>\n",
    "### Autograd\n",
    "\n",
    "Before we start, here are some explanations of autograd\n",
    "\n",
    "* A Neural Network does a forward pass, which means it just goes through its architecture, multiplying inputs from the previous layer by weights of current layer, adding bias, modifying result with an activation function to create non-linearity and get the result in a certain range and distribution. This result is then used as the input for the next layer, and on it goes until we reach the final layer. Once we get to the final layer, we calculate the loss function(a function which quantifies the difference between a network's predictions and target values(what it should have predicted if it was an expert). \n",
    "* Once a forward pass is made,i.e a neural network spits out predictions and we calculate the loss for them, Neural network weights are adjusted through backpropagation to **minimize the difference**(loss) between the predictions and correct values.\n",
    "* Backpropagation, is essentially just chain rule. Gradients are calculated by traversing the graph from the loss to every leaf in the network and multiply every gradient in the way using chain rule [$^1$](https://towardsdatascience.com/pytorch-autograd-understanding-the-heart-of-pytorchs-magic-2686cd94ec95#:~:text=is%20not%20needed.-,Backward()%20function,gradients%20are%20then%20stored%20in%20.)\n",
    "* Pytorch creates the graph at every iteration(when you do a forward pass). Therefore, this allows you to modify the architectures on the go.[$^2$](https://towardsdatascience.com/pytorch-autograd-understanding-the-heart-of-pytorchs-magic-2686cd94ec95#:~:text=is%20not%20needed.-,Backward()%20function,gradients%20are%20then%20stored%20in%20.)\n",
    "* Each weight and bias in the network is a [Tensor](https://pytorch.org/docs/stable/tensors.html), which has a `.requires_grad` property. When you set the property to `True` it becomes part of a graph with all of the tensors that it interacts with (through various operations), and stores the operation that was called on it, so that pytorch can then know how to differentiate. The *Autograd* package, the one that does differentiation, can differentiate pretty much all functions, so any function encountered in the `.grad_fn` of the tensor is doable for it. When you define a model using a `nn.Module` class, the `.requires_grad` is automatically set for you.\n",
    "* Therefore, once `.backward()` is called, the gradient is calculated from the loss all the way to each weight and stored, in the `.grad` property of each tensor. If you don't want a tensor being tracked(i.e it won't store what operations it was produced from), you[](http://) can just call `.detach()` on it, or wrap the code block(where you do the backward pass) with `torch.no_grad()`."
   ]
  },
  {
   "cell_type": "code",
   "execution_count": 15,
   "metadata": {
    "execution": {
     "iopub.execute_input": "2020-10-10T18:07:59.221593Z",
     "iopub.status.busy": "2020-10-10T18:07:59.220708Z",
     "iopub.status.idle": "2020-10-10T18:07:59.250374Z",
     "shell.execute_reply": "2020-10-10T18:07:59.249896Z"
    },
    "papermill": {
     "duration": 0.086445,
     "end_time": "2020-10-10T18:07:59.250471",
     "exception": false,
     "start_time": "2020-10-10T18:07:59.164026",
     "status": "completed"
    },
    "tags": []
   },
   "outputs": [
    {
     "name": "stdout",
     "output_type": "stream",
     "text": [
      "a is:  tensor([[0.0781, 0.7081],\n",
      "        [0.7764, 0.6055],\n",
      "        [0.5953, 0.8248]], requires_grad=True)\n",
      "a grad is:  None\n",
      "b is tensor([[0.6863, 0.0383],\n",
      "        [0.5153, 0.2158],\n",
      "        [0.2607, 0.4578]], requires_grad=True)\n",
      "b grad is:  None\n",
      "c is tensor([[1.6071, 2.2009],\n",
      "        [3.3599, 2.2480],\n",
      "        [2.3074, 3.3902]], grad_fn=<AddBackward0>)\n",
      "c grad is:  None\n",
      "d is tensor(60.4536, grad_fn=<MulBackward0>)\n",
      "d grad is:  None\n",
      "performing backward pass, which will save gradients\n",
      "a grad is:  tensor([[12., 12.],\n",
      "        [12., 12.],\n",
      "        [12., 12.]])\n",
      "b grad is:  tensor([[8., 8.],\n",
      "        [8., 8.],\n",
      "        [8., 8.]])\n",
      "c grad is:  None\n",
      "d grad is:  None\n",
      "-------------------\n",
      "with history enabled\n",
      "tensor([[0.0061, 0.5014],\n",
      "        [0.6028, 0.3666],\n",
      "        [0.3544, 0.6804]], grad_fn=<PowBackward0>)\n",
      "with history disabled, notice tensor has no information on its creation      , tensors involved in it\n",
      "tensor([[0.0061, 0.5014],\n",
      "        [0.6028, 0.3666],\n",
      "        [0.3544, 0.6804]])\n"
     ]
    },
    {
     "name": "stderr",
     "output_type": "stream",
     "text": [
      "/opt/conda/lib/python3.7/site-packages/ipykernel_launcher.py:14: UserWarning: The .grad attribute of a Tensor that is not a leaf Tensor is being accessed. Its .grad attribute won't be populated during autograd.backward(). If you indeed want the gradient for a non-leaf Tensor, use .retain_grad() on the non-leaf Tensor. If you access the non-leaf Tensor by mistake, make sure you access the leaf Tensor instead. See github.com/pytorch/pytorch/pull/30531 for more informations.\n",
      "  \n",
      "/opt/conda/lib/python3.7/site-packages/ipykernel_launcher.py:16: UserWarning: The .grad attribute of a Tensor that is not a leaf Tensor is being accessed. Its .grad attribute won't be populated during autograd.backward(). If you indeed want the gradient for a non-leaf Tensor, use .retain_grad() on the non-leaf Tensor. If you access the non-leaf Tensor by mistake, make sure you access the leaf Tensor instead. See github.com/pytorch/pytorch/pull/30531 for more informations.\n",
      "  app.launch_new_instance()\n",
      "/opt/conda/lib/python3.7/site-packages/ipykernel_launcher.py:21: UserWarning: The .grad attribute of a Tensor that is not a leaf Tensor is being accessed. Its .grad attribute won't be populated during autograd.backward(). If you indeed want the gradient for a non-leaf Tensor, use .retain_grad() on the non-leaf Tensor. If you access the non-leaf Tensor by mistake, make sure you access the leaf Tensor instead. See github.com/pytorch/pytorch/pull/30531 for more informations.\n",
      "/opt/conda/lib/python3.7/site-packages/ipykernel_launcher.py:22: UserWarning: The .grad attribute of a Tensor that is not a leaf Tensor is being accessed. Its .grad attribute won't be populated during autograd.backward(). If you indeed want the gradient for a non-leaf Tensor, use .retain_grad() on the non-leaf Tensor. If you access the non-leaf Tensor by mistake, make sure you access the leaf Tensor instead. See github.com/pytorch/pytorch/pull/30531 for more informations.\n"
     ]
    }
   ],
   "source": [
    "import torch.nn.functional as F\n",
    "\n",
    "a = torch.rand(3,2)\n",
    "a.requires_grad = True\n",
    "print(\"a is: \", a)\n",
    "print(\"a grad is: \", a.grad)\n",
    "b = torch.rand(3,2)\n",
    "b.requires_grad = True\n",
    "c = 3*a + 2*b\n",
    "d = c.sum() * 4\n",
    "print(\"b is\", b)\n",
    "print(\"b grad is: \", b.grad)\n",
    "print(\"c is\",c)\n",
    "print(\"c grad is: \", c.grad)\n",
    "print(\"d is\", d)\n",
    "print(\"d grad is: \", d.grad)\n",
    "d.backward()\n",
    "print(\"performing backward pass, which will save gradients\")\n",
    "print(\"a grad is: \", a.grad)\n",
    "print(\"b grad is: \", b.grad)\n",
    "print(\"c grad is: \", c.grad)\n",
    "print(\"d grad is: \", d.grad)\n",
    "print('-------------------')\n",
    "print(\"with history enabled\")\n",
    "print(a **2)\n",
    "print(\"with history disabled, notice tensor has no information on its creation\\\n",
    "      , tensors involved in it\")\n",
    "with torch.no_grad():\n",
    "    print(a ** 2)"
   ]
  },
  {
   "cell_type": "markdown",
   "metadata": {
    "papermill": {
     "duration": 0.045864,
     "end_time": "2020-10-10T18:07:59.342320",
     "exception": false,
     "start_time": "2020-10-10T18:07:59.296456",
     "status": "completed"
    },
    "tags": []
   },
   "source": [
    "<a id=\"cuda\"></a>\n",
    "## Using CUDA\n",
    "\n",
    "* Tensors are data structures, so they have to be stored somewhere on your PC. They are by default stored on the *cpu*. However, we know that gpus are **much** faster at parallel computations, therefore we want to store them on GPU's, which will make any operations on them perform *much*,*much faster*. \n",
    "\n",
    "### Basic rules of devices\n",
    "\n",
    "* Tensors **must be on same device** to do an operation(multiplication, subtraction, etc) on them. \n",
    "* If an operation between tensors(addition, etc) results in a new tensor, the **new tensor will be stored on same device as the original tensors**. Therefore if `c = a + b`, then c will be on same device as a and b are. This means you don't need to manually move it to the device you intend to use, unless you need to change it. \n",
    "\n",
    "### Moving tensor to another device(cpu, gpu, etc)\n",
    "\n",
    "*Following is heavily inspired from: https://medium.com/ai%C2%B3-theory-practice-business/use-gpu-in-your-pytorch-code-676a67faed09*\n",
    "\n",
    "* Since tensors are stored by default on the *cpu*, you always have to move them over to the *gpu* if you intend to use it.\n",
    "* Every tensor in pytorch has a `to()` function, which it uses to put the tensor on a certain device, i.e CPU or specific GPU [$^2$](https://medium.com/ai%C2%B3-theory-practice-business/use-gpu-in-your-pytorch-code-676a67faed09): `el = torch.rand(3,2).to(device)`\n",
    "* You can create the device with a string *cpu* or *cuda:0*, based on the avaialability:\n",
    "    ```\n",
    "    if torch.cuda.is_available():\n",
    "        dev = 'cuda:0'\n",
    "    else:\n",
    "        dev = 'cpu'\n",
    "    device = torch.device(dev)\n",
    "    ```\n",
    "* **You can also put the whole network on cuda, since <mark>`nn.module`(the class that your network **has** to inherit) has a `to` and `cuda` function</mark>**\n",
    "\n",
    "### What do you move to cuda\n",
    "\n",
    "Short, answer everything. You want to move all of your tensors to CUDA to take full advantage of the GPU, also because you can't really do operations between 2 tensors if 1 of them is on one device(cpu, or a specific gpu), and second tensor is on a completely different device.\n",
    "\n",
    "More specifically, you want to move:\n",
    "* Entire network, which is done easily with `net = Network().to(device)`\n",
    "* All of the data you use to *train* and *evaluate* the network on: `images = images.to(device)`\n",
    "\n",
    "### Important methods:\n",
    "\n",
    "> For more methods, go here: [pytorch documentation](https://pytorch.org/docs/stable/cuda.html)\n",
    "* `torch.cuda.is_available()`: test for working install of nvidia with cuda\n",
    "* `device  = torch.device('cpu'/'cuda:0')`: create the device you want(cpu, gpu, etc)\n",
    "* `a_tensor.to(device)`: move tensor to specific device\n",
    "* `tensor.get_device()`: get the tensor the device is running on"
   ]
  }
 ],
 "metadata": {
  "kernelspec": {
   "display_name": "Python 3",
   "language": "python",
   "name": "python3"
  },
  "language_info": {
   "codemirror_mode": {
    "name": "ipython",
    "version": 3
   },
   "file_extension": ".py",
   "mimetype": "text/x-python",
   "name": "python",
   "nbconvert_exporter": "python",
   "pygments_lexer": "ipython3",
   "version": "3.7.6"
  },
  "papermill": {
   "duration": 62.890365,
   "end_time": "2020-10-10T18:08:00.417845",
   "environment_variables": {},
   "exception": null,
   "input_path": "__notebook__.ipynb",
   "output_path": "__notebook__.ipynb",
   "parameters": {},
   "start_time": "2020-10-10T18:06:57.527480",
   "version": "2.1.0"
  },
  "widgets": {
   "application/vnd.jupyter.widget-state+json": {
    "state": {
     "04141566bbe24997a0859688970a8d5e": {
      "model_module": "@jupyter-widgets/controls",
      "model_module_version": "1.5.0",
      "model_name": "DescriptionStyleModel",
      "state": {
       "_model_module": "@jupyter-widgets/controls",
       "_model_module_version": "1.5.0",
       "_model_name": "DescriptionStyleModel",
       "_view_count": null,
       "_view_module": "@jupyter-widgets/base",
       "_view_module_version": "1.2.0",
       "_view_name": "StyleView",
       "description_width": ""
      }
     },
     "045d387b85c54804b8f9d604c21ce7a4": {
      "model_module": "@jupyter-widgets/base",
      "model_module_version": "1.2.0",
      "model_name": "LayoutModel",
      "state": {
       "_model_module": "@jupyter-widgets/base",
       "_model_module_version": "1.2.0",
       "_model_name": "LayoutModel",
       "_view_count": null,
       "_view_module": "@jupyter-widgets/base",
       "_view_module_version": "1.2.0",
       "_view_name": "LayoutView",
       "align_content": null,
       "align_items": null,
       "align_self": null,
       "border": null,
       "bottom": null,
       "display": null,
       "flex": null,
       "flex_flow": null,
       "grid_area": null,
       "grid_auto_columns": null,
       "grid_auto_flow": null,
       "grid_auto_rows": null,
       "grid_column": null,
       "grid_gap": null,
       "grid_row": null,
       "grid_template_areas": null,
       "grid_template_columns": null,
       "grid_template_rows": null,
       "height": null,
       "justify_content": null,
       "justify_items": null,
       "left": null,
       "margin": null,
       "max_height": null,
       "max_width": null,
       "min_height": null,
       "min_width": null,
       "object_fit": null,
       "object_position": null,
       "order": null,
       "overflow": null,
       "overflow_x": null,
       "overflow_y": null,
       "padding": null,
       "right": null,
       "top": null,
       "visibility": null,
       "width": null
      }
     },
     "18ecb21ca231425d92c0a907c307f613": {
      "model_module": "@jupyter-widgets/controls",
      "model_module_version": "1.5.0",
      "model_name": "DescriptionStyleModel",
      "state": {
       "_model_module": "@jupyter-widgets/controls",
       "_model_module_version": "1.5.0",
       "_model_name": "DescriptionStyleModel",
       "_view_count": null,
       "_view_module": "@jupyter-widgets/base",
       "_view_module_version": "1.2.0",
       "_view_name": "StyleView",
       "description_width": ""
      }
     },
     "1cfd247520734676ba0015772283d238": {
      "model_module": "@jupyter-widgets/controls",
      "model_module_version": "1.5.0",
      "model_name": "HBoxModel",
      "state": {
       "_dom_classes": [],
       "_model_module": "@jupyter-widgets/controls",
       "_model_module_version": "1.5.0",
       "_model_name": "HBoxModel",
       "_view_count": null,
       "_view_module": "@jupyter-widgets/controls",
       "_view_module_version": "1.5.0",
       "_view_name": "HBoxView",
       "box_style": "",
       "children": [
        "IPY_MODEL_2e990f5178784918b4f08907e0686392",
        "IPY_MODEL_f9cb9fc7daff414a8ad657525604d60d"
       ],
       "layout": "IPY_MODEL_fe5992bc794e439e82907995b97cd122"
      }
     },
     "22a2aa74250e48fc93ce9ec2787a6606": {
      "model_module": "@jupyter-widgets/base",
      "model_module_version": "1.2.0",
      "model_name": "LayoutModel",
      "state": {
       "_model_module": "@jupyter-widgets/base",
       "_model_module_version": "1.2.0",
       "_model_name": "LayoutModel",
       "_view_count": null,
       "_view_module": "@jupyter-widgets/base",
       "_view_module_version": "1.2.0",
       "_view_name": "LayoutView",
       "align_content": null,
       "align_items": null,
       "align_self": null,
       "border": null,
       "bottom": null,
       "display": null,
       "flex": null,
       "flex_flow": null,
       "grid_area": null,
       "grid_auto_columns": null,
       "grid_auto_flow": null,
       "grid_auto_rows": null,
       "grid_column": null,
       "grid_gap": null,
       "grid_row": null,
       "grid_template_areas": null,
       "grid_template_columns": null,
       "grid_template_rows": null,
       "height": null,
       "justify_content": null,
       "justify_items": null,
       "left": null,
       "margin": null,
       "max_height": null,
       "max_width": null,
       "min_height": null,
       "min_width": null,
       "object_fit": null,
       "object_position": null,
       "order": null,
       "overflow": null,
       "overflow_x": null,
       "overflow_y": null,
       "padding": null,
       "right": null,
       "top": null,
       "visibility": null,
       "width": null
      }
     },
     "2e990f5178784918b4f08907e0686392": {
      "model_module": "@jupyter-widgets/controls",
      "model_module_version": "1.5.0",
      "model_name": "FloatProgressModel",
      "state": {
       "_dom_classes": [],
       "_model_module": "@jupyter-widgets/controls",
       "_model_module_version": "1.5.0",
       "_model_name": "FloatProgressModel",
       "_view_count": null,
       "_view_module": "@jupyter-widgets/controls",
       "_view_module_version": "1.5.0",
       "_view_name": "ProgressView",
       "bar_style": "success",
       "description": "",
       "description_tooltip": null,
       "layout": "IPY_MODEL_b8baf6c7f60f4148bfa5059711979bc6",
       "max": 1.0,
       "min": 0.0,
       "orientation": "horizontal",
       "style": "IPY_MODEL_8914535b199749f5b67035a13e237b4a",
       "value": 1.0
      }
     },
     "386bfe86e55d46a18e91c337952fcab4": {
      "model_module": "@jupyter-widgets/controls",
      "model_module_version": "1.5.0",
      "model_name": "HBoxModel",
      "state": {
       "_dom_classes": [],
       "_model_module": "@jupyter-widgets/controls",
       "_model_module_version": "1.5.0",
       "_model_name": "HBoxModel",
       "_view_count": null,
       "_view_module": "@jupyter-widgets/controls",
       "_view_module_version": "1.5.0",
       "_view_name": "HBoxView",
       "box_style": "",
       "children": [
        "IPY_MODEL_93dda8a56f2840e0b2abc4a6d3c00bac",
        "IPY_MODEL_d069c47896124f778720b9f12ce41916"
       ],
       "layout": "IPY_MODEL_045d387b85c54804b8f9d604c21ce7a4"
      }
     },
     "3f0e13355c384b30a7afa7aef345801a": {
      "model_module": "@jupyter-widgets/controls",
      "model_module_version": "1.5.0",
      "model_name": "ProgressStyleModel",
      "state": {
       "_model_module": "@jupyter-widgets/controls",
       "_model_module_version": "1.5.0",
       "_model_name": "ProgressStyleModel",
       "_view_count": null,
       "_view_module": "@jupyter-widgets/base",
       "_view_module_version": "1.2.0",
       "_view_name": "StyleView",
       "bar_color": null,
       "description_width": "initial"
      }
     },
     "4ce31c55b7e2465a89bd26e32a02e499": {
      "model_module": "@jupyter-widgets/controls",
      "model_module_version": "1.5.0",
      "model_name": "HTMLModel",
      "state": {
       "_dom_classes": [],
       "_model_module": "@jupyter-widgets/controls",
       "_model_module_version": "1.5.0",
       "_model_name": "HTMLModel",
       "_view_count": null,
       "_view_module": "@jupyter-widgets/controls",
       "_view_module_version": "1.5.0",
       "_view_name": "HTMLView",
       "description": "",
       "description_tooltip": null,
       "layout": "IPY_MODEL_f3aece0b4f6f48bcad61373b36b5d203",
       "placeholder": "​",
       "style": "IPY_MODEL_b3c17fe98fb74d66b9fc1d694a0da8bf",
       "value": " 1654784/? [00:03&lt;00:00, 532399.26it/s]"
      }
     },
     "4e83485dbfc44a449db3de3336749570": {
      "model_module": "@jupyter-widgets/controls",
      "model_module_version": "1.5.0",
      "model_name": "HBoxModel",
      "state": {
       "_dom_classes": [],
       "_model_module": "@jupyter-widgets/controls",
       "_model_module_version": "1.5.0",
       "_model_name": "HBoxModel",
       "_view_count": null,
       "_view_module": "@jupyter-widgets/controls",
       "_view_module_version": "1.5.0",
       "_view_name": "HBoxView",
       "box_style": "",
       "children": [
        "IPY_MODEL_6c8ac308ac104cf39898e8adcdd4e823",
        "IPY_MODEL_4ce31c55b7e2465a89bd26e32a02e499"
       ],
       "layout": "IPY_MODEL_a7a304ce01fb47f6827dcf763fc5cdda"
      }
     },
     "4ff154b5bda9476c9d9a30e36e6cfbdf": {
      "model_module": "@jupyter-widgets/base",
      "model_module_version": "1.2.0",
      "model_name": "LayoutModel",
      "state": {
       "_model_module": "@jupyter-widgets/base",
       "_model_module_version": "1.2.0",
       "_model_name": "LayoutModel",
       "_view_count": null,
       "_view_module": "@jupyter-widgets/base",
       "_view_module_version": "1.2.0",
       "_view_name": "LayoutView",
       "align_content": null,
       "align_items": null,
       "align_self": null,
       "border": null,
       "bottom": null,
       "display": null,
       "flex": null,
       "flex_flow": null,
       "grid_area": null,
       "grid_auto_columns": null,
       "grid_auto_flow": null,
       "grid_auto_rows": null,
       "grid_column": null,
       "grid_gap": null,
       "grid_row": null,
       "grid_template_areas": null,
       "grid_template_columns": null,
       "grid_template_rows": null,
       "height": null,
       "justify_content": null,
       "justify_items": null,
       "left": null,
       "margin": null,
       "max_height": null,
       "max_width": null,
       "min_height": null,
       "min_width": null,
       "object_fit": null,
       "object_position": null,
       "order": null,
       "overflow": null,
       "overflow_x": null,
       "overflow_y": null,
       "padding": null,
       "right": null,
       "top": null,
       "visibility": null,
       "width": null
      }
     },
     "5393b73c51cc46a88007386eeaa5c298": {
      "model_module": "@jupyter-widgets/base",
      "model_module_version": "1.2.0",
      "model_name": "LayoutModel",
      "state": {
       "_model_module": "@jupyter-widgets/base",
       "_model_module_version": "1.2.0",
       "_model_name": "LayoutModel",
       "_view_count": null,
       "_view_module": "@jupyter-widgets/base",
       "_view_module_version": "1.2.0",
       "_view_name": "LayoutView",
       "align_content": null,
       "align_items": null,
       "align_self": null,
       "border": null,
       "bottom": null,
       "display": null,
       "flex": null,
       "flex_flow": null,
       "grid_area": null,
       "grid_auto_columns": null,
       "grid_auto_flow": null,
       "grid_auto_rows": null,
       "grid_column": null,
       "grid_gap": null,
       "grid_row": null,
       "grid_template_areas": null,
       "grid_template_columns": null,
       "grid_template_rows": null,
       "height": null,
       "justify_content": null,
       "justify_items": null,
       "left": null,
       "margin": null,
       "max_height": null,
       "max_width": null,
       "min_height": null,
       "min_width": null,
       "object_fit": null,
       "object_position": null,
       "order": null,
       "overflow": null,
       "overflow_x": null,
       "overflow_y": null,
       "padding": null,
       "right": null,
       "top": null,
       "visibility": null,
       "width": null
      }
     },
     "547721fa1cdd473ca7346e4b2efbf1f4": {
      "model_module": "@jupyter-widgets/controls",
      "model_module_version": "1.5.0",
      "model_name": "HBoxModel",
      "state": {
       "_dom_classes": [],
       "_model_module": "@jupyter-widgets/controls",
       "_model_module_version": "1.5.0",
       "_model_name": "HBoxModel",
       "_view_count": null,
       "_view_module": "@jupyter-widgets/controls",
       "_view_module_version": "1.5.0",
       "_view_name": "HBoxView",
       "box_style": "",
       "children": [
        "IPY_MODEL_6fe90b38155b4338b5efd78b94988ce5",
        "IPY_MODEL_5f07c9e4935740578e36aa7efc876ccd"
       ],
       "layout": "IPY_MODEL_613df987c0bf40249854f5caff23eb94"
      }
     },
     "5f07c9e4935740578e36aa7efc876ccd": {
      "model_module": "@jupyter-widgets/controls",
      "model_module_version": "1.5.0",
      "model_name": "HTMLModel",
      "state": {
       "_dom_classes": [],
       "_model_module": "@jupyter-widgets/controls",
       "_model_module_version": "1.5.0",
       "_model_name": "HTMLModel",
       "_view_count": null,
       "_view_module": "@jupyter-widgets/controls",
       "_view_module_version": "1.5.0",
       "_view_name": "HTMLView",
       "description": "",
       "description_tooltip": null,
       "layout": "IPY_MODEL_22a2aa74250e48fc93ce9ec2787a6606",
       "placeholder": "​",
       "style": "IPY_MODEL_04141566bbe24997a0859688970a8d5e",
       "value": " 9920512/? [00:06&lt;00:00, 1427446.75it/s]"
      }
     },
     "613df987c0bf40249854f5caff23eb94": {
      "model_module": "@jupyter-widgets/base",
      "model_module_version": "1.2.0",
      "model_name": "LayoutModel",
      "state": {
       "_model_module": "@jupyter-widgets/base",
       "_model_module_version": "1.2.0",
       "_model_name": "LayoutModel",
       "_view_count": null,
       "_view_module": "@jupyter-widgets/base",
       "_view_module_version": "1.2.0",
       "_view_name": "LayoutView",
       "align_content": null,
       "align_items": null,
       "align_self": null,
       "border": null,
       "bottom": null,
       "display": null,
       "flex": null,
       "flex_flow": null,
       "grid_area": null,
       "grid_auto_columns": null,
       "grid_auto_flow": null,
       "grid_auto_rows": null,
       "grid_column": null,
       "grid_gap": null,
       "grid_row": null,
       "grid_template_areas": null,
       "grid_template_columns": null,
       "grid_template_rows": null,
       "height": null,
       "justify_content": null,
       "justify_items": null,
       "left": null,
       "margin": null,
       "max_height": null,
       "max_width": null,
       "min_height": null,
       "min_width": null,
       "object_fit": null,
       "object_position": null,
       "order": null,
       "overflow": null,
       "overflow_x": null,
       "overflow_y": null,
       "padding": null,
       "right": null,
       "top": null,
       "visibility": null,
       "width": null
      }
     },
     "64ce657db7b74486ba6591fbb9f86738": {
      "model_module": "@jupyter-widgets/controls",
      "model_module_version": "1.5.0",
      "model_name": "DescriptionStyleModel",
      "state": {
       "_model_module": "@jupyter-widgets/controls",
       "_model_module_version": "1.5.0",
       "_model_name": "DescriptionStyleModel",
       "_view_count": null,
       "_view_module": "@jupyter-widgets/base",
       "_view_module_version": "1.2.0",
       "_view_name": "StyleView",
       "description_width": ""
      }
     },
     "6c8ac308ac104cf39898e8adcdd4e823": {
      "model_module": "@jupyter-widgets/controls",
      "model_module_version": "1.5.0",
      "model_name": "FloatProgressModel",
      "state": {
       "_dom_classes": [],
       "_model_module": "@jupyter-widgets/controls",
       "_model_module_version": "1.5.0",
       "_model_name": "FloatProgressModel",
       "_view_count": null,
       "_view_module": "@jupyter-widgets/controls",
       "_view_module_version": "1.5.0",
       "_view_name": "ProgressView",
       "bar_style": "success",
       "description": "",
       "description_tooltip": null,
       "layout": "IPY_MODEL_4ff154b5bda9476c9d9a30e36e6cfbdf",
       "max": 1.0,
       "min": 0.0,
       "orientation": "horizontal",
       "style": "IPY_MODEL_f90449dcced04b52ac37da60e269620b",
       "value": 1.0
      }
     },
     "6fe90b38155b4338b5efd78b94988ce5": {
      "model_module": "@jupyter-widgets/controls",
      "model_module_version": "1.5.0",
      "model_name": "FloatProgressModel",
      "state": {
       "_dom_classes": [],
       "_model_module": "@jupyter-widgets/controls",
       "_model_module_version": "1.5.0",
       "_model_name": "FloatProgressModel",
       "_view_count": null,
       "_view_module": "@jupyter-widgets/controls",
       "_view_module_version": "1.5.0",
       "_view_name": "ProgressView",
       "bar_style": "success",
       "description": "",
       "description_tooltip": null,
       "layout": "IPY_MODEL_768be4ba31ac43fe8a281417d1d97921",
       "max": 1.0,
       "min": 0.0,
       "orientation": "horizontal",
       "style": "IPY_MODEL_3f0e13355c384b30a7afa7aef345801a",
       "value": 1.0
      }
     },
     "768be4ba31ac43fe8a281417d1d97921": {
      "model_module": "@jupyter-widgets/base",
      "model_module_version": "1.2.0",
      "model_name": "LayoutModel",
      "state": {
       "_model_module": "@jupyter-widgets/base",
       "_model_module_version": "1.2.0",
       "_model_name": "LayoutModel",
       "_view_count": null,
       "_view_module": "@jupyter-widgets/base",
       "_view_module_version": "1.2.0",
       "_view_name": "LayoutView",
       "align_content": null,
       "align_items": null,
       "align_self": null,
       "border": null,
       "bottom": null,
       "display": null,
       "flex": null,
       "flex_flow": null,
       "grid_area": null,
       "grid_auto_columns": null,
       "grid_auto_flow": null,
       "grid_auto_rows": null,
       "grid_column": null,
       "grid_gap": null,
       "grid_row": null,
       "grid_template_areas": null,
       "grid_template_columns": null,
       "grid_template_rows": null,
       "height": null,
       "justify_content": null,
       "justify_items": null,
       "left": null,
       "margin": null,
       "max_height": null,
       "max_width": null,
       "min_height": null,
       "min_width": null,
       "object_fit": null,
       "object_position": null,
       "order": null,
       "overflow": null,
       "overflow_x": null,
       "overflow_y": null,
       "padding": null,
       "right": null,
       "top": null,
       "visibility": null,
       "width": null
      }
     },
     "8914535b199749f5b67035a13e237b4a": {
      "model_module": "@jupyter-widgets/controls",
      "model_module_version": "1.5.0",
      "model_name": "ProgressStyleModel",
      "state": {
       "_model_module": "@jupyter-widgets/controls",
       "_model_module_version": "1.5.0",
       "_model_name": "ProgressStyleModel",
       "_view_count": null,
       "_view_module": "@jupyter-widgets/base",
       "_view_module_version": "1.2.0",
       "_view_name": "StyleView",
       "bar_color": null,
       "description_width": "initial"
      }
     },
     "93dda8a56f2840e0b2abc4a6d3c00bac": {
      "model_module": "@jupyter-widgets/controls",
      "model_module_version": "1.5.0",
      "model_name": "FloatProgressModel",
      "state": {
       "_dom_classes": [],
       "_model_module": "@jupyter-widgets/controls",
       "_model_module_version": "1.5.0",
       "_model_name": "FloatProgressModel",
       "_view_count": null,
       "_view_module": "@jupyter-widgets/controls",
       "_view_module_version": "1.5.0",
       "_view_name": "ProgressView",
       "bar_style": "success",
       "description": "",
       "description_tooltip": null,
       "layout": "IPY_MODEL_bfd8123bae8746c2885c9e75b25840e9",
       "max": 1.0,
       "min": 0.0,
       "orientation": "horizontal",
       "style": "IPY_MODEL_cb4b37a6a2c94c9a909fc889ea426981",
       "value": 1.0
      }
     },
     "a7a304ce01fb47f6827dcf763fc5cdda": {
      "model_module": "@jupyter-widgets/base",
      "model_module_version": "1.2.0",
      "model_name": "LayoutModel",
      "state": {
       "_model_module": "@jupyter-widgets/base",
       "_model_module_version": "1.2.0",
       "_model_name": "LayoutModel",
       "_view_count": null,
       "_view_module": "@jupyter-widgets/base",
       "_view_module_version": "1.2.0",
       "_view_name": "LayoutView",
       "align_content": null,
       "align_items": null,
       "align_self": null,
       "border": null,
       "bottom": null,
       "display": null,
       "flex": null,
       "flex_flow": null,
       "grid_area": null,
       "grid_auto_columns": null,
       "grid_auto_flow": null,
       "grid_auto_rows": null,
       "grid_column": null,
       "grid_gap": null,
       "grid_row": null,
       "grid_template_areas": null,
       "grid_template_columns": null,
       "grid_template_rows": null,
       "height": null,
       "justify_content": null,
       "justify_items": null,
       "left": null,
       "margin": null,
       "max_height": null,
       "max_width": null,
       "min_height": null,
       "min_width": null,
       "object_fit": null,
       "object_position": null,
       "order": null,
       "overflow": null,
       "overflow_x": null,
       "overflow_y": null,
       "padding": null,
       "right": null,
       "top": null,
       "visibility": null,
       "width": null
      }
     },
     "b3c17fe98fb74d66b9fc1d694a0da8bf": {
      "model_module": "@jupyter-widgets/controls",
      "model_module_version": "1.5.0",
      "model_name": "DescriptionStyleModel",
      "state": {
       "_model_module": "@jupyter-widgets/controls",
       "_model_module_version": "1.5.0",
       "_model_name": "DescriptionStyleModel",
       "_view_count": null,
       "_view_module": "@jupyter-widgets/base",
       "_view_module_version": "1.2.0",
       "_view_name": "StyleView",
       "description_width": ""
      }
     },
     "b8baf6c7f60f4148bfa5059711979bc6": {
      "model_module": "@jupyter-widgets/base",
      "model_module_version": "1.2.0",
      "model_name": "LayoutModel",
      "state": {
       "_model_module": "@jupyter-widgets/base",
       "_model_module_version": "1.2.0",
       "_model_name": "LayoutModel",
       "_view_count": null,
       "_view_module": "@jupyter-widgets/base",
       "_view_module_version": "1.2.0",
       "_view_name": "LayoutView",
       "align_content": null,
       "align_items": null,
       "align_self": null,
       "border": null,
       "bottom": null,
       "display": null,
       "flex": null,
       "flex_flow": null,
       "grid_area": null,
       "grid_auto_columns": null,
       "grid_auto_flow": null,
       "grid_auto_rows": null,
       "grid_column": null,
       "grid_gap": null,
       "grid_row": null,
       "grid_template_areas": null,
       "grid_template_columns": null,
       "grid_template_rows": null,
       "height": null,
       "justify_content": null,
       "justify_items": null,
       "left": null,
       "margin": null,
       "max_height": null,
       "max_width": null,
       "min_height": null,
       "min_width": null,
       "object_fit": null,
       "object_position": null,
       "order": null,
       "overflow": null,
       "overflow_x": null,
       "overflow_y": null,
       "padding": null,
       "right": null,
       "top": null,
       "visibility": null,
       "width": null
      }
     },
     "bfd8123bae8746c2885c9e75b25840e9": {
      "model_module": "@jupyter-widgets/base",
      "model_module_version": "1.2.0",
      "model_name": "LayoutModel",
      "state": {
       "_model_module": "@jupyter-widgets/base",
       "_model_module_version": "1.2.0",
       "_model_name": "LayoutModel",
       "_view_count": null,
       "_view_module": "@jupyter-widgets/base",
       "_view_module_version": "1.2.0",
       "_view_name": "LayoutView",
       "align_content": null,
       "align_items": null,
       "align_self": null,
       "border": null,
       "bottom": null,
       "display": null,
       "flex": null,
       "flex_flow": null,
       "grid_area": null,
       "grid_auto_columns": null,
       "grid_auto_flow": null,
       "grid_auto_rows": null,
       "grid_column": null,
       "grid_gap": null,
       "grid_row": null,
       "grid_template_areas": null,
       "grid_template_columns": null,
       "grid_template_rows": null,
       "height": null,
       "justify_content": null,
       "justify_items": null,
       "left": null,
       "margin": null,
       "max_height": null,
       "max_width": null,
       "min_height": null,
       "min_width": null,
       "object_fit": null,
       "object_position": null,
       "order": null,
       "overflow": null,
       "overflow_x": null,
       "overflow_y": null,
       "padding": null,
       "right": null,
       "top": null,
       "visibility": null,
       "width": null
      }
     },
     "cb4b37a6a2c94c9a909fc889ea426981": {
      "model_module": "@jupyter-widgets/controls",
      "model_module_version": "1.5.0",
      "model_name": "ProgressStyleModel",
      "state": {
       "_model_module": "@jupyter-widgets/controls",
       "_model_module_version": "1.5.0",
       "_model_name": "ProgressStyleModel",
       "_view_count": null,
       "_view_module": "@jupyter-widgets/base",
       "_view_module_version": "1.2.0",
       "_view_name": "StyleView",
       "bar_color": null,
       "description_width": "initial"
      }
     },
     "d069c47896124f778720b9f12ce41916": {
      "model_module": "@jupyter-widgets/controls",
      "model_module_version": "1.5.0",
      "model_name": "HTMLModel",
      "state": {
       "_dom_classes": [],
       "_model_module": "@jupyter-widgets/controls",
       "_model_module_version": "1.5.0",
       "_model_name": "HTMLModel",
       "_view_count": null,
       "_view_module": "@jupyter-widgets/controls",
       "_view_module_version": "1.5.0",
       "_view_name": "HTMLView",
       "description": "",
       "description_tooltip": null,
       "layout": "IPY_MODEL_d44aa5d910944d2095f836aa918c398f",
       "placeholder": "​",
       "style": "IPY_MODEL_64ce657db7b74486ba6591fbb9f86738",
       "value": " 8192/? [00:01&lt;00:00, 7794.11it/s]"
      }
     },
     "d44aa5d910944d2095f836aa918c398f": {
      "model_module": "@jupyter-widgets/base",
      "model_module_version": "1.2.0",
      "model_name": "LayoutModel",
      "state": {
       "_model_module": "@jupyter-widgets/base",
       "_model_module_version": "1.2.0",
       "_model_name": "LayoutModel",
       "_view_count": null,
       "_view_module": "@jupyter-widgets/base",
       "_view_module_version": "1.2.0",
       "_view_name": "LayoutView",
       "align_content": null,
       "align_items": null,
       "align_self": null,
       "border": null,
       "bottom": null,
       "display": null,
       "flex": null,
       "flex_flow": null,
       "grid_area": null,
       "grid_auto_columns": null,
       "grid_auto_flow": null,
       "grid_auto_rows": null,
       "grid_column": null,
       "grid_gap": null,
       "grid_row": null,
       "grid_template_areas": null,
       "grid_template_columns": null,
       "grid_template_rows": null,
       "height": null,
       "justify_content": null,
       "justify_items": null,
       "left": null,
       "margin": null,
       "max_height": null,
       "max_width": null,
       "min_height": null,
       "min_width": null,
       "object_fit": null,
       "object_position": null,
       "order": null,
       "overflow": null,
       "overflow_x": null,
       "overflow_y": null,
       "padding": null,
       "right": null,
       "top": null,
       "visibility": null,
       "width": null
      }
     },
     "f3aece0b4f6f48bcad61373b36b5d203": {
      "model_module": "@jupyter-widgets/base",
      "model_module_version": "1.2.0",
      "model_name": "LayoutModel",
      "state": {
       "_model_module": "@jupyter-widgets/base",
       "_model_module_version": "1.2.0",
       "_model_name": "LayoutModel",
       "_view_count": null,
       "_view_module": "@jupyter-widgets/base",
       "_view_module_version": "1.2.0",
       "_view_name": "LayoutView",
       "align_content": null,
       "align_items": null,
       "align_self": null,
       "border": null,
       "bottom": null,
       "display": null,
       "flex": null,
       "flex_flow": null,
       "grid_area": null,
       "grid_auto_columns": null,
       "grid_auto_flow": null,
       "grid_auto_rows": null,
       "grid_column": null,
       "grid_gap": null,
       "grid_row": null,
       "grid_template_areas": null,
       "grid_template_columns": null,
       "grid_template_rows": null,
       "height": null,
       "justify_content": null,
       "justify_items": null,
       "left": null,
       "margin": null,
       "max_height": null,
       "max_width": null,
       "min_height": null,
       "min_width": null,
       "object_fit": null,
       "object_position": null,
       "order": null,
       "overflow": null,
       "overflow_x": null,
       "overflow_y": null,
       "padding": null,
       "right": null,
       "top": null,
       "visibility": null,
       "width": null
      }
     },
     "f90449dcced04b52ac37da60e269620b": {
      "model_module": "@jupyter-widgets/controls",
      "model_module_version": "1.5.0",
      "model_name": "ProgressStyleModel",
      "state": {
       "_model_module": "@jupyter-widgets/controls",
       "_model_module_version": "1.5.0",
       "_model_name": "ProgressStyleModel",
       "_view_count": null,
       "_view_module": "@jupyter-widgets/base",
       "_view_module_version": "1.2.0",
       "_view_name": "StyleView",
       "bar_color": null,
       "description_width": "initial"
      }
     },
     "f9cb9fc7daff414a8ad657525604d60d": {
      "model_module": "@jupyter-widgets/controls",
      "model_module_version": "1.5.0",
      "model_name": "HTMLModel",
      "state": {
       "_dom_classes": [],
       "_model_module": "@jupyter-widgets/controls",
       "_model_module_version": "1.5.0",
       "_model_name": "HTMLModel",
       "_view_count": null,
       "_view_module": "@jupyter-widgets/controls",
       "_view_module_version": "1.5.0",
       "_view_name": "HTMLView",
       "description": "",
       "description_tooltip": null,
       "layout": "IPY_MODEL_5393b73c51cc46a88007386eeaa5c298",
       "placeholder": "​",
       "style": "IPY_MODEL_18ecb21ca231425d92c0a907c307f613",
       "value": " 32768/? [00:00&lt;00:00, 38634.83it/s]"
      }
     },
     "fe5992bc794e439e82907995b97cd122": {
      "model_module": "@jupyter-widgets/base",
      "model_module_version": "1.2.0",
      "model_name": "LayoutModel",
      "state": {
       "_model_module": "@jupyter-widgets/base",
       "_model_module_version": "1.2.0",
       "_model_name": "LayoutModel",
       "_view_count": null,
       "_view_module": "@jupyter-widgets/base",
       "_view_module_version": "1.2.0",
       "_view_name": "LayoutView",
       "align_content": null,
       "align_items": null,
       "align_self": null,
       "border": null,
       "bottom": null,
       "display": null,
       "flex": null,
       "flex_flow": null,
       "grid_area": null,
       "grid_auto_columns": null,
       "grid_auto_flow": null,
       "grid_auto_rows": null,
       "grid_column": null,
       "grid_gap": null,
       "grid_row": null,
       "grid_template_areas": null,
       "grid_template_columns": null,
       "grid_template_rows": null,
       "height": null,
       "justify_content": null,
       "justify_items": null,
       "left": null,
       "margin": null,
       "max_height": null,
       "max_width": null,
       "min_height": null,
       "min_width": null,
       "object_fit": null,
       "object_position": null,
       "order": null,
       "overflow": null,
       "overflow_x": null,
       "overflow_y": null,
       "padding": null,
       "right": null,
       "top": null,
       "visibility": null,
       "width": null
      }
     }
    },
    "version_major": 2,
    "version_minor": 0
   }
  }
 },
 "nbformat": 4,
 "nbformat_minor": 4
}
